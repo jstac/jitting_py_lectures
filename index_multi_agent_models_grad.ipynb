{
 "cells": [
  {
   "cell_type": "markdown",
   "metadata": {},
   "source": [
    "\n",
    "<a id='multi-agent-models'></a>\n",
    "<a href=\"#\"><img src=\"/_static/img/jupyter-notebook-download-blue.svg\" id=\"notebook_download_badge\"></a>\n",
    "\n",
    "<script>\n",
    "var path = window.location.pathname;\n",
    "var pageName = path.split(\"/\").pop().split(\".\")[0];\n",
    "var downloadLink = [\"/\", \"_downloads/ipynb/py/\", pageName, \".ipynb\"].join(\"\");\n",
    "document.getElementById('notebook_download_badge').parentElement.setAttribute('href', downloadLink);\n",
    "</script>\n",
    "\n",
    "<a href=\"/status.html\"><img src=\"https://img.shields.io/badge/Execution%20test-not%20available-lightgrey.svg\" id=\"executability_status_badge\"></a>\n",
    "\n",
    "<div class=\"how-to\">\n",
    "        <a href=\"#\" class=\"toggle\"><span class=\"icon icon-angle-double-down\"></span>How to read this lecture...</a>\n",
    "        <div class=\"how-to-content\">\n",
    "                <p>Code should execute sequentially if run in a Jupyter notebook</p>\n",
    "                <ul>\n",
    "                        <li>See the <a href=\"/py/getting_started.html\">set up page</a> to install Jupyter, Python and all necessary libraries</li>\n",
    "                        <li>Please direct feedback to <a href=\"mailto:contact@quantecon.org\">contact@quantecon.org</a> or the <a href=\"http://discourse.quantecon.org/\">discourse forum</a></li>\n",
    "                </ul>\n",
    "        </div>\n",
    "</div>"
   ]
  },
  {
   "cell_type": "markdown",
   "metadata": {},
   "source": [
    "# Multiple Agent Models\n",
    "\n",
    "These lectures look at important economic models that also illustrate common\n",
    "equilibrium concepts.\n",
    "\n",
    "- [Robust Markov Perfect Equilibrium](rob_markov_perf.ipynb#)- [Overview](rob_markov_perf.ipynb#overview)- [Linear Markov perfect equilibria with robust agents](rob_markov_perf.ipynb#linear-markov-perfect-equilibria-with-robust-agents)- [Application](rob_markov_perf.ipynb#application)- [Asset Pricing II: The Lucas Asset Pricing Model](lucas_model.ipynb#)- [Overview](lucas_model.ipynb#overview)- [The Lucas Model](lucas_model.ipynb#the-lucas-model)- [Exercises](lucas_model.ipynb#exercises)- [Solutions](lucas_model.ipynb#solutions)- [Uncertainty Traps](uncertainty_traps.ipynb#)- [Overview](uncertainty_traps.ipynb#overview)- [The Model](uncertainty_traps.ipynb#the-model)- [Implementation](uncertainty_traps.ipynb#implementation)- [Results](uncertainty_traps.ipynb#results)- [Exercises](uncertainty_traps.ipynb#exercises)- [Solutions](uncertainty_traps.ipynb#solutions)- [The Aiyagari Model](aiyagari.ipynb#)- [Overview](aiyagari.ipynb#overview)- [The Economy](aiyagari.ipynb#the-economy)- [Firms](aiyagari.ipynb#firms)- [Code](aiyagari.ipynb#code)- [Default Risk and Income Fluctuations](arellano.ipynb#)- [Overview](arellano.ipynb#overview)- [Structure](arellano.ipynb#structure)- [Equilibrium](arellano.ipynb#equilibrium)- [Computation](arellano.ipynb#computation)- [Results](arellano.ipynb#results)- [Exercises](arellano.ipynb#exercises)- [Solutions](arellano.ipynb#solutions)- [Globalization and Cycles](matsuyama.ipynb#)- [Overview](matsuyama.ipynb#overview)- [Key Ideas](matsuyama.ipynb#key-ideas)- [Model](matsuyama.ipynb#model)- [Simulation](matsuyama.ipynb#simulation)- [Exercises](matsuyama.ipynb#exercises)- [Solutions](matsuyama.ipynb#solutions)"
   ]
  }
 ],
 "metadata": {
  "kernelspec": {
   "display_name": "Python",
   "language": "python3",
   "name": "python3"
  }
 },
 "nbformat": 4,
 "nbformat_minor": 2
}
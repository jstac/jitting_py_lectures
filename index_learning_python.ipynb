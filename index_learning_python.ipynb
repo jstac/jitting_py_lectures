{
 "cells": [
  {
   "cell_type": "markdown",
   "metadata": {},
   "source": [
    "\n",
    "<a id='learning-python'></a>\n",
    "<a href=\"#\"><img src=\"/_static/img/jupyter-notebook-download-blue.svg\" id=\"notebook_download_badge\"></a>\n",
    "\n",
    "<script>\n",
    "var path = window.location.pathname;\n",
    "var pageName = path.split(\"/\").pop().split(\".\")[0];\n",
    "var downloadLink = [\"/\", \"_downloads/ipynb/py/\", pageName, \".ipynb\"].join(\"\");\n",
    "document.getElementById('notebook_download_badge').parentElement.setAttribute('href', downloadLink);\n",
    "</script>\n",
    "\n",
    "<a href=\"/status.html\"><img src=\"https://img.shields.io/badge/Execution%20test-not%20available-lightgrey.svg\" id=\"executability_status_badge\"></a>\n",
    "\n",
    "<div class=\"how-to\">\n",
    "        <a href=\"#\" class=\"toggle\"><span class=\"icon icon-angle-double-down\"></span>How to read this lecture...</a>\n",
    "        <div class=\"how-to-content\">\n",
    "                <p>Code should execute sequentially if run in a Jupyter notebook</p>\n",
    "                <ul>\n",
    "                        <li>See the <a href=\"/py/getting_started.html\">set up page</a> to install Jupyter, Python and all necessary libraries</li>\n",
    "                        <li>Please direct feedback to <a href=\"mailto:contact@quantecon.org\">contact@quantecon.org</a> or the <a href=\"http://discourse.quantecon.org/\">discourse forum</a></li>\n",
    "                </ul>\n",
    "        </div>\n",
    "</div>"
   ]
  },
  {
   "cell_type": "markdown",
   "metadata": {},
   "source": [
    "# Introduction to Python\n",
    "\n",
    "This first part of the course provides a relatively fast-paced introduction to the Python programming language\n",
    "\n",
    "- [About Python](about_py.ipynb#)- [Overview](about_py.ipynb#overview)- [What’s Python?](about_py.ipynb#what-s-python)- [Scientific Programming](about_py.ipynb#scientific-programming)- [Learn More](about_py.ipynb#learn-more)- [Setting up Your Python Environment](getting_started.ipynb#)- [Overview](getting_started.ipynb#overview)- [Anaconda](getting_started.ipynb#anaconda)- [Jupyter Notebooks](getting_started.ipynb#jupyter-notebooks)- [QuantEcon.py](getting_started.ipynb#quantecon-py)- [Keeping Software up to Date](getting_started.ipynb#keeping-software-up-to-date)- [Working with Files](getting_started.ipynb#working-with-files)- [Editors and IDEs](getting_started.ipynb#editors-and-ides)- [Exercises](getting_started.ipynb#exercises)- [An Introductory Example](python_by_example.ipynb#)- [Overview](python_by_example.ipynb#overview)- [The Task: Plotting a White Noise Process](python_by_example.ipynb#the-task-plotting-a-white-noise-process)- [Version 1](python_by_example.ipynb#version-1)- [Alternative Versions](python_by_example.ipynb#alternative-versions)- [Exercises](python_by_example.ipynb#exercises)- [Solutions](python_by_example.ipynb#solutions)- [Python Essentials](python_essentials.ipynb#)- [Data Types](python_essentials.ipynb#data-types)- [Input and Output](python_essentials.ipynb#input-and-output)- [Iterating](python_essentials.ipynb#iterating)- [Comparisons and Logical Operators](python_essentials.ipynb#comparisons-and-logical-operators)- [More Functions](python_essentials.ipynb#more-functions)- [Coding Style and PEP8](python_essentials.ipynb#coding-style-and-pep8)- [Exercises](python_essentials.ipynb#exercises)- [Solutions](python_essentials.ipynb#solutions)- [OOP I: Introduction to Object Oriented Programming](oop_intro.ipynb#)- [Overview](oop_intro.ipynb#overview)- [Objects](oop_intro.ipynb#objects)- [Summary](oop_intro.ipynb#summary)"
   ]
  }
 ],
 "metadata": {
  "kernelspec": {
   "display_name": "Python",
   "language": "python3",
   "name": "python3"
  }
 },
 "nbformat": 4,
 "nbformat_minor": 2
}
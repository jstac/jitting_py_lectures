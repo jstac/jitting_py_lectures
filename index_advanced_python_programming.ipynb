{
 "cells": [
  {
   "cell_type": "markdown",
   "metadata": {},
   "source": [
    "<a href=\"#\"><img src=\"/_static/img/jupyter-notebook-download-blue.svg\" id=\"notebook_download_badge\"></a>\n",
    "\n",
    "<script>\n",
    "var path = window.location.pathname;\n",
    "var pageName = path.split(\"/\").pop().split(\".\")[0];\n",
    "var downloadLink = [\"/\", \"_downloads/ipynb/py/\", pageName, \".ipynb\"].join(\"\");\n",
    "document.getElementById('notebook_download_badge').parentElement.setAttribute('href', downloadLink);\n",
    "</script>\n",
    "\n",
    "<a href=\"/status.html\"><img src=\"https://img.shields.io/badge/Execution%20test-not%20available-lightgrey.svg\" id=\"executability_status_badge\"></a>\n",
    "\n",
    "<div class=\"how-to\">\n",
    "        <a href=\"#\" class=\"toggle\"><span class=\"icon icon-angle-double-down\"></span>How to read this lecture...</a>\n",
    "        <div class=\"how-to-content\">\n",
    "                <p>Code should execute sequentially if run in a Jupyter notebook</p>\n",
    "                <ul>\n",
    "                        <li>See the <a href=\"/py/getting_started.html\">set up page</a> to install Jupyter, Python and all necessary libraries</li>\n",
    "                        <li>Please direct feedback to <a href=\"mailto:contact@quantecon.org\">contact@quantecon.org</a> or the <a href=\"http://discourse.quantecon.org/\">discourse forum</a></li>\n",
    "                </ul>\n",
    "        </div>\n",
    "</div>"
   ]
  },
  {
   "cell_type": "markdown",
   "metadata": {},
   "source": [
    "# Advanced Python Programming\n",
    "\n",
    "This part provides a look at more advanced concepts in Python programming\n",
    "\n",
    "- [Writing Good Code](writing_good_code.ipynb#)- [Overview](writing_good_code.ipynb#overview)- [An Example of Bad Code](writing_good_code.ipynb#an-example-of-bad-code)- [Good Coding Practice](writing_good_code.ipynb#good-coding-practice)- [Revisiting the  Example](writing_good_code.ipynb#revisiting-the-example)- [Summary](writing_good_code.ipynb#summary)- [OOP II: Building Classes](python_oop.ipynb#)- [Overview](python_oop.ipynb#overview)- [OOP Review](python_oop.ipynb#oop-review)- [Defining Your Own Classes](python_oop.ipynb#defining-your-own-classes)- [Special Methods](python_oop.ipynb#special-methods)- [Exercises](python_oop.ipynb#exercises)- [Solutions](python_oop.ipynb#solutions)- [OOP III: The Samuelson Accelerator](samuelson.ipynb#)- [Overview](samuelson.ipynb#overview)- [Details](samuelson.ipynb#details)- [Implementation](samuelson.ipynb#implementation)- [Stochastic shocks](samuelson.ipynb#stochastic-shocks)- [Government spending](samuelson.ipynb#government-spending)- [Wrapping everything into a class](samuelson.ipynb#wrapping-everything-into-a-class)- [Using the LinearStateSpace class](samuelson.ipynb#using-the-linearstatespace-class)- [Pure multiplier model](samuelson.ipynb#pure-multiplier-model)- [Summary](samuelson.ipynb#summary)- [More Language Features](python_advanced_features.ipynb#)- [Overview](python_advanced_features.ipynb#overview)- [Iterables and Iterators](python_advanced_features.ipynb#iterables-and-iterators)- [Names and Name Resolution](python_advanced_features.ipynb#names-and-name-resolution)- [Handling Errors](python_advanced_features.ipynb#handling-errors)- [Decorators and Descriptors](python_advanced_features.ipynb#decorators-and-descriptors)- [Generators](python_advanced_features.ipynb#generators)- [Recursive Function Calls](python_advanced_features.ipynb#recursive-function-calls)- [Exercises](python_advanced_features.ipynb#exercises)- [Solutions](python_advanced_features.ipynb#solutions)- [Debugging](debugging.ipynb#)- [Overview](debugging.ipynb#overview)- [Debugging](debugging.ipynb#id2)- [Other Useful Magics](debugging.ipynb#other-useful-magics)"
   ]
  }
 ],
 "metadata": {
  "kernelspec": {
   "display_name": "Python",
   "language": "python3",
   "name": "python3"
  }
 },
 "nbformat": 4,
 "nbformat_minor": 2
}
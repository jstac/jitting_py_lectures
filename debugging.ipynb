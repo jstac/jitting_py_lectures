{
 "cells": [
  {
   "cell_type": "markdown",
   "metadata": {},
   "source": [
    "\n",
    "<a id='debugging'></a>\n",
    "<a href=\"#\"><img src=\"/_static/img/jupyter-notebook-download-blue.svg\" id=\"notebook_download_badge\"></a>\n",
    "\n",
    "<script>\n",
    "var path = window.location.pathname;\n",
    "var pageName = path.split(\"/\").pop().split(\".\")[0];\n",
    "var downloadLink = [\"/\", \"_downloads/ipynb/py/\", pageName, \".ipynb\"].join(\"\");\n",
    "document.getElementById('notebook_download_badge').parentElement.setAttribute('href', downloadLink);\n",
    "</script>\n",
    "\n",
    "<a href=\"/status.html\"><img src=\"https://img.shields.io/badge/Execution%20test-not%20available-lightgrey.svg\" id=\"executability_status_badge\"></a>\n",
    "\n",
    "<div class=\"how-to\">\n",
    "        <a href=\"#\" class=\"toggle\"><span class=\"icon icon-angle-double-down\"></span>How to read this lecture...</a>\n",
    "        <div class=\"how-to-content\">\n",
    "                <p>Code should execute sequentially if run in a Jupyter notebook</p>\n",
    "                <ul>\n",
    "                        <li>See the <a href=\"/py/getting_started.html\">set up page</a> to install Jupyter, Python and all necessary libraries</li>\n",
    "                        <li>Please direct feedback to <a href=\"mailto:contact@quantecon.org\">contact@quantecon.org</a> or the <a href=\"http://discourse.quantecon.org/\">discourse forum</a></li>\n",
    "                </ul>\n",
    "        </div>\n",
    "</div>"
   ]
  },
  {
   "cell_type": "markdown",
   "metadata": {},
   "source": [
    "# Debugging\n",
    "\n",
    "\n",
    "<a id='index-0'></a>"
   ]
  },
  {
   "cell_type": "markdown",
   "metadata": {},
   "source": [
    "## Contents\n",
    "\n",
    "- [Debugging](#Debugging)  \n",
    "  - [Overview](#Overview)  \n",
    "  - [Debugging](#Debugging)  \n",
    "  - [Other Useful Magics](#Other-Useful-Magics)  "
   ]
  },
  {
   "cell_type": "markdown",
   "metadata": {},
   "source": [
    "\n",
    "    “Debugging is twice as hard as writing the code in the first place.\n",
    "Therefore, if you write the code as cleverly as possible, you are, by definition,\n",
    "not smart enough to debug it.” – Brian Kernighan"
   ]
  },
  {
   "cell_type": "markdown",
   "metadata": {},
   "source": [
    "## Overview\n",
    "\n",
    "Are you one of those programmers who fills their code with print statements when trying to debug their programs?\n",
    "\n",
    "Hey, we all used to do that\n",
    "\n",
    "(OK, sometimes we still do that…)\n",
    "\n",
    "But once you start writing larger programs you’ll need a better system\n",
    "\n",
    "Debugging tools for Python vary across platforms, IDEs and editors\n",
    "\n",
    "Here we’ll focus on Jupyter and leave you to explore other settings"
   ]
  },
  {
   "cell_type": "markdown",
   "metadata": {},
   "source": [
    "## Debugging\n",
    "\n",
    "\n",
    "<a id='index-1'></a>"
   ]
  },
  {
   "cell_type": "markdown",
   "metadata": {},
   "source": [
    "### The debug Magic\n",
    "\n",
    "Let’s consider a simple (and rather contrived) example"
   ]
  },
  {
   "cell_type": "markdown",
   "metadata": {},
   "source": [
    "```python3\n",
    "import numpy as np\n",
    "import matplotlib.pyplot as plt\n",
    "\n",
    "def plot_log():\n",
    "    fig, ax = plt.subplots(2, 1)\n",
    "    x = np.linspace(1, 2, 10)\n",
    "    ax.plot(x, np.log(x))\n",
    "    plt.show()\n",
    "\n",
    "plot_log()  # Call the function, generate plot\n",
    "```\n"
   ]
  },
  {
   "cell_type": "markdown",
   "metadata": {},
   "source": [
    "This code is intended to plot the log function over the interval $ [1, 2] $\n",
    "\n",
    "But there’s an error here: plt.subplots(2, 1) should be just plt.subplots()\n",
    "\n",
    "(The call plt.subplots(2, 1) returns a NumPy array containing two axes objects, suitable for having two subplots on the same figure)\n",
    "\n",
    "Here’s what happens when we run the code:"
   ]
  },
  {
   "cell_type": "markdown",
   "metadata": {},
   "source": [
    "```none\n",
    "---------------------------------------------------------------------------\n",
    "AttributeError                            Traceback (most recent call last)\n",
    "<ipython-input-1-ef5c75a58138> in <module>()\n",
    "      8     plt.show()\n",
    "      9\n",
    "---> 10 plot_log()  # Call the function, generate plot\n",
    "\n",
    "<ipython-input-1-ef5c75a58138> in plot_log()\n",
    "      5     fig, ax = plt.subplots(2, 1)\n",
    "      6     x = np.linspace(1, 2, 10)\n",
    "----> 7     ax.plot(x, np.log(x))\n",
    "      8     plt.show()\n",
    "      9\n",
    "\n",
    "AttributeError: 'numpy.ndarray' object has no attribute 'plot'\n",
    "```\n"
   ]
  },
  {
   "cell_type": "markdown",
   "metadata": {},
   "source": [
    "The traceback shows that the error occurs at the method call ax.plot(x, np.log(x))\n",
    "\n",
    "The error occurs because we have mistakenly made ax a NumPy array, and a NumPy array has no plot method\n",
    "\n",
    "But let’s pretend that we don’t understand this for the moment\n",
    "\n",
    "We might suspect there’s something wrong with ax but when we try to investigate this object, we get the following exception:"
   ]
  },
  {
   "cell_type": "markdown",
   "metadata": {},
   "source": [
    "```none\n",
    "---------------------------------------------------------------------------\n",
    "NameError                                 Traceback (most recent call last)\n",
    "<ipython-input-2-645aedc8a285> in <module>()\n",
    "----> 1 ax\n",
    "\n",
    "NameError: name 'ax' is not defined\n",
    "```\n"
   ]
  },
  {
   "cell_type": "markdown",
   "metadata": {},
   "source": [
    "The problem is that ax was defined inside plot_log(), and the name is\n",
    "lost once that function terminates\n",
    "\n",
    "Let’s try doing it a different way\n",
    "\n",
    "We run the first cell block again, generating the same error"
   ]
  },
  {
   "cell_type": "markdown",
   "metadata": {},
   "source": [
    "```python3\n",
    "import numpy as np\n",
    "import matplotlib.pyplot as plt\n",
    "\n",
    "def plot_log():\n",
    "    fig, ax = plt.subplots(2, 1)\n",
    "    x = np.linspace(1, 2, 10)\n",
    "    ax.plot(x, np.log(x))\n",
    "    plt.show()\n",
    "\n",
    "plot_log()  # Call the function, generate plot\n",
    "```\n"
   ]
  },
  {
   "cell_type": "markdown",
   "metadata": {},
   "source": [
    "```none\n",
    "---------------------------------------------------------------------------\n",
    "AttributeError                            Traceback (most recent call last)\n",
    "<ipython-input-1-ef5c75a58138> in <module>()\n",
    "      8     plt.show()\n",
    "      9\n",
    "---> 10 plot_log()  # Call the function, generate plot\n",
    "\n",
    "<ipython-input-1-ef5c75a58138> in plot_log()\n",
    "      5     fig, ax = plt.subplots(2, 1)\n",
    "      6     x = np.linspace(1, 2, 10)\n",
    "----> 7     ax.plot(x, np.log(x))\n",
    "      8     plt.show()\n",
    "      9\n",
    "\n",
    "AttributeError: 'numpy.ndarray' object has no attribute 'plot'\n",
    "```\n"
   ]
  },
  {
   "cell_type": "markdown",
   "metadata": {},
   "source": [
    "But this time we type in the following cell block"
   ]
  },
  {
   "cell_type": "markdown",
   "metadata": {},
   "source": [
    "```ipython\n",
    "%debug\n",
    "```\n"
   ]
  },
  {
   "cell_type": "markdown",
   "metadata": {},
   "source": [
    "You should be dropped into a new prompt that looks something like this"
   ]
  },
  {
   "cell_type": "markdown",
   "metadata": {},
   "source": [
    "```ipython\n",
    "ipdb>\n",
    "```\n"
   ]
  },
  {
   "cell_type": "markdown",
   "metadata": {},
   "source": [
    "(You might see pdb> instead)\n",
    "\n",
    "Now we can investigate the value of our variables at this point in the program, step forward through the code, etc.\n",
    "\n",
    "For example, here we simply type the name ax to see what’s happening with\n",
    "this object:"
   ]
  },
  {
   "cell_type": "markdown",
   "metadata": {},
   "source": [
    "```ipython\n",
    "ipdb> ax\n",
    "array([<matplotlib.axes.AxesSubplot object at 0x290f5d0>,\n",
    "       <matplotlib.axes.AxesSubplot object at 0x2930810>], dtype=object)\n",
    "```\n"
   ]
  },
  {
   "cell_type": "markdown",
   "metadata": {},
   "source": [
    "It’s now very clear that ax is an array, which clarifies the source of the\n",
    "problem\n",
    "\n",
    "To find out what else you can do from inside ipdb (or pdb), use the\n",
    "online help"
   ]
  },
  {
   "cell_type": "markdown",
   "metadata": {},
   "source": [
    "```ipython\n",
    "ipdb> h\n",
    "\n",
    "Documented commands (type help <topic>):\n",
    "========================================\n",
    "EOF    bt         cont      enable  jump  pdef   r        tbreak   w\n",
    "a      c          continue  exit    l     pdoc   restart  u        whatis\n",
    "alias  cl         d         h       list  pinfo  return   unalias  where\n",
    "args   clear      debug     help    n     pp     run      unt\n",
    "b      commands   disable   ignore  next  q      s        until\n",
    "break  condition  down      j       p     quit   step     up\n",
    "\n",
    "Miscellaneous help topics:\n",
    "==========================\n",
    "exec  pdb\n",
    "\n",
    "Undocumented commands:\n",
    "======================\n",
    "retval  rv\n",
    "\n",
    "ipdb> h c\n",
    "c(ont(inue))\n",
    "Continue execution, only stop when a breakpoint is encountered.\n",
    "```\n"
   ]
  },
  {
   "cell_type": "markdown",
   "metadata": {},
   "source": [
    "### Setting a Break Point\n",
    "\n",
    "The preceding approach is handy but sometimes insufficient\n",
    "\n",
    "Consider the following modified version of our function above"
   ]
  },
  {
   "cell_type": "code",
   "execution_count": null,
   "metadata": {},
   "outputs": [],
   "source": [
    "import numpy as np\n",
    "import matplotlib.pyplot as plt\n",
    "\n",
    "def plot_log():\n",
    "    fig, ax = plt.subplots()\n",
    "    x = np.logspace(1, 2, 10)\n",
    "    ax.plot(x, np.log(x))\n",
    "    plt.show()\n",
    "\n",
    "plot_log()"
   ]
  },
  {
   "cell_type": "markdown",
   "metadata": {},
   "source": [
    "Here the original problem is fixed, but we’ve accidentally written\n",
    "np.logspace(1, 2, 10) instead of np.linspace(1, 2, 10)\n",
    "\n",
    "Now there won’t be any exception, but the plot won’t look right\n",
    "\n",
    "To investigate, it would be helpful if we could inspect variables like x during execution of the function\n",
    "\n",
    "To this end , we add a “break point” by inserting the line from IPython.core.debugger import Tracer; Tracer()() inside the function code block"
   ]
  },
  {
   "cell_type": "markdown",
   "metadata": {},
   "source": [
    "```python3\n",
    "import numpy as np\n",
    "import matplotlib.pyplot as plt\n",
    "from IPython.core.debugger import Pdb\n",
    "\n",
    "def plot_log():\n",
    "    Pdb().set_trace()\n",
    "    fig, ax = plt.subplots()\n",
    "    x = np.logspace(1, 2, 10)\n",
    "    ax.plot(x, np.log(x))\n",
    "    plt.show()\n",
    "\n",
    "plot_log()\n",
    "```\n"
   ]
  },
  {
   "cell_type": "markdown",
   "metadata": {},
   "source": [
    "Now let’s run the script, and investigate via the debugger"
   ]
  },
  {
   "cell_type": "markdown",
   "metadata": {},
   "source": [
    "```python3\n",
    "> <ipython-input-5-c5864f6d184b>(6)plot_log()\n",
    "      4 def plot_log():\n",
    "      5     from IPython.core.debugger import Tracer; Tracer()()\n",
    "----> 6     fig, ax = plt.subplots()\n",
    "      7     x = np.logspace(1, 2, 10)\n",
    "      8     ax.plot(x, np.log(x))\n",
    "\n",
    "ipdb> n\n",
    "> <ipython-input-5-c5864f6d184b>(7)plot_log()\n",
    "      5     from IPython.core.debugger import Tracer; Tracer()()\n",
    "      6     fig, ax = plt.subplots()\n",
    "----> 7     x = np.logspace(1, 2, 10)\n",
    "      8     ax.plot(x, np.log(x))\n",
    "      9     plt.show()\n",
    "\n",
    "ipdb> n\n",
    "> <ipython-input-5-c5864f6d184b>(8)plot_log()\n",
    "      6     fig, ax = plt.subplots()\n",
    "      7     x = np.logspace(1, 2, 10)\n",
    "----> 8     ax.plot(x, np.log(x))\n",
    "      9     plt.show()\n",
    "     10\n",
    "\n",
    "ipdb> x\n",
    "array([  10.        ,   12.91549665,   16.68100537,   21.5443469 ,\n",
    "         27.82559402,   35.93813664,   46.41588834,   59.94842503,\n",
    "         77.42636827,  100.        ])\n",
    "```\n"
   ]
  },
  {
   "cell_type": "markdown",
   "metadata": {},
   "source": [
    "We used n twice to step forward through the code (one line at a time)\n",
    "\n",
    "Then we printed the value of x to see what was happening with that variable\n",
    "\n",
    "To exit from the debugger, use q"
   ]
  },
  {
   "cell_type": "markdown",
   "metadata": {},
   "source": [
    "## Other Useful Magics\n",
    "\n",
    "In this lecture we used the %debug IPython magic\n",
    "\n",
    "There are many other useful magics:\n",
    "\n",
    "- %precision 4 sets printed precision for floats to 4 decimal places  \n",
    "- %whos gives a list of variables and their values  \n",
    "- %quickref gives a list of magics  \n",
    "\n",
    "\n",
    "The full list of magics is [here](http://ipython.readthedocs.org/en/stable/interactive/magics.html)"
   ]
  }
 ],
 "metadata": {
  "kernelspec": {
   "display_name": "Python",
   "language": "python3",
   "name": "python3"
  }
 },
 "nbformat": 4,
 "nbformat_minor": 2
}
{
 "cells": [
  {
   "cell_type": "markdown",
   "metadata": {},
   "source": [
    "<a href=\"#\"><img src=\"/_static/img/jupyter-notebook-download-blue.svg\" id=\"notebook_download_badge\"></a>\n",
    "\n",
    "<script>\n",
    "var path = window.location.pathname;\n",
    "var pageName = path.split(\"/\").pop().split(\".\")[0];\n",
    "var downloadLink = [\"/\", \"_downloads/ipynb/py/\", pageName, \".ipynb\"].join(\"\");\n",
    "document.getElementById('notebook_download_badge').parentElement.setAttribute('href', downloadLink);\n",
    "</script>\n",
    "\n",
    "<a href=\"/status.html\"><img src=\"https://img.shields.io/badge/Execution%20test-not%20available-lightgrey.svg\" id=\"executability_status_badge\"></a>\n",
    "\n",
    "<div class=\"how-to\">\n",
    "        <a href=\"#\" class=\"toggle\"><span class=\"icon icon-angle-double-down\"></span>How to read this lecture...</a>\n",
    "        <div class=\"how-to-content\">\n",
    "                <p>Code should execute sequentially if run in a Jupyter notebook</p>\n",
    "                <ul>\n",
    "                        <li>See the <a href=\"/py/getting_started.html\">set up page</a> to install Jupyter, Python and all necessary libraries</li>\n",
    "                        <li>Please direct feedback to <a href=\"mailto:contact@quantecon.org\">contact@quantecon.org</a> or the <a href=\"http://discourse.quantecon.org/\">discourse forum</a></li>\n",
    "                </ul>\n",
    "        </div>\n",
    "</div>"
   ]
  },
  {
   "cell_type": "markdown",
   "metadata": {},
   "source": [
    "# Data and Empirics\n",
    "\n",
    "This part of the course provides a set of lectures focused on Data and\n",
    "Empirics using Python\n",
    "\n",
    "- [Pandas](pandas.ipynb#)- [Overview](pandas.ipynb#overview)- [Series](pandas.ipynb#series)- [DataFrames](pandas.ipynb#dataframes)- [On-Line Data Sources](pandas.ipynb#on-line-data-sources)- [Exercises](pandas.ipynb#exercises)- [Solutions](pandas.ipynb#solutions)- [Pandas for Panel Data](pandas_panel.ipynb#)- [Overview](pandas_panel.ipynb#overview)- [Slicing and reshaping data](pandas_panel.ipynb#slicing-and-reshaping-data)- [Merging dataframes and filling NaNs](pandas_panel.ipynb#merging-dataframes-and-filling-nans)- [Grouping and summarizing data](pandas_panel.ipynb#grouping-and-summarizing-data)- [Final Remarks](pandas_panel.ipynb#final-remarks)- [Exercises](pandas_panel.ipynb#exercises)- [Solutions](pandas_panel.ipynb#solutions)- [Linear Regression in Python](ols.ipynb#)- [Overview](ols.ipynb#overview)- [Simple Linear Regression](ols.ipynb#simple-linear-regression)- [Extending the Linear Regression Model](ols.ipynb#extending-the-linear-regression-model)- [Endogeneity](ols.ipynb#endogeneity)- [Summary](ols.ipynb#summary)- [Exercises](ols.ipynb#exercises)- [Solutions](ols.ipynb#solutions)- [Maximum Likelihood Estimation](mle.ipynb#)- [Overview](mle.ipynb#overview)- [Set Up and Assumptions](mle.ipynb#set-up-and-assumptions)- [Conditional Distributions](mle.ipynb#conditional-distributions)- [Maximum Likelihood Estimation](mle.ipynb#id2)- [MLE with Numerical Methods](mle.ipynb#mle-with-numerical-methods)- [Maximum Likelihood Estimation with statsmodels](mle.ipynb#maximum-likelihood-estimation-with-statsmodels)- [Summary](mle.ipynb#summary)- [Exercises](mle.ipynb#exercises)- [Solutions](mle.ipynb#solutions)"
   ]
  }
 ],
 "metadata": {
  "kernelspec": {
   "display_name": "Python",
   "language": "python3",
   "name": "python3"
  }
 },
 "nbformat": 4,
 "nbformat_minor": 2
}
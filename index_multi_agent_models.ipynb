{
 "cells": [
  {
   "cell_type": "markdown",
   "metadata": {},
   "source": [
    "\n",
    "<a id='multi-agent-models'></a>\n",
    "<a href=\"#\"><img src=\"/_static/img/jupyter-notebook-download-blue.svg\" id=\"notebook_download_badge\"></a>\n",
    "\n",
    "<script>\n",
    "var path = window.location.pathname;\n",
    "var pageName = path.split(\"/\").pop().split(\".\")[0];\n",
    "var downloadLink = [\"/\", \"_downloads/ipynb/py/\", pageName, \".ipynb\"].join(\"\");\n",
    "document.getElementById('notebook_download_badge').parentElement.setAttribute('href', downloadLink);\n",
    "</script>\n",
    "\n",
    "<a href=\"/status.html\"><img src=\"https://img.shields.io/badge/Execution%20test-not%20available-lightgrey.svg\" id=\"executability_status_badge\"></a>\n",
    "\n",
    "<div class=\"how-to\">\n",
    "        <a href=\"#\" class=\"toggle\"><span class=\"icon icon-angle-double-down\"></span>How to read this lecture...</a>\n",
    "        <div class=\"how-to-content\">\n",
    "                <p>Code should execute sequentially if run in a Jupyter notebook</p>\n",
    "                <ul>\n",
    "                        <li>See the <a href=\"/py/getting_started.html\">set up page</a> to install Jupyter, Python and all necessary libraries</li>\n",
    "                        <li>Please direct feedback to <a href=\"mailto:contact@quantecon.org\">contact@quantecon.org</a> or the <a href=\"http://discourse.quantecon.org/\">discourse forum</a></li>\n",
    "                </ul>\n",
    "        </div>\n",
    "</div>"
   ]
  },
  {
   "cell_type": "markdown",
   "metadata": {},
   "source": [
    "# Multiple Agent Models\n",
    "\n",
    "These lectures look at important economic models that also illustrate common\n",
    "equilibrium concepts.\n",
    "\n",
    "- [Schelling’s Segregation Model](schelling.ipynb#)- [Outline](schelling.ipynb#outline)- [The Model](schelling.ipynb#the-model)- [Results](schelling.ipynb#results)- [Exercises](schelling.ipynb#exercises)- [Solutions](schelling.ipynb#solutions)- [A Lake Model of Employment and Unemployment](lake_model.ipynb#)- [Overview](lake_model.ipynb#overview)- [The Model](lake_model.ipynb#the-model)- [Implementation](lake_model.ipynb#implementation)- [Dynamics of an Individual Worker](lake_model.ipynb#dynamics-of-an-individual-worker)- [Endogenous Job Finding Rate](lake_model.ipynb#endogenous-job-finding-rate)- [Exercises](lake_model.ipynb#exercises)- [Solutions](lake_model.ipynb#solutions)- [Lake Model Solutions](lake_model.ipynb#lake-model-solutions)- [Rational Expectations Equilibrium](rational_expectations.ipynb#)- [Overview](rational_expectations.ipynb#overview)- [Defining Rational Expectations Equilibrium](rational_expectations.ipynb#defining-rational-expectations-equilibrium)- [Computation of an Equilibrium](rational_expectations.ipynb#computation-of-an-equilibrium)- [Exercises](rational_expectations.ipynb#exercises)- [Solutions](rational_expectations.ipynb#solutions)- [Markov Perfect Equilibrium](markov_perf.ipynb#)- [Overview](markov_perf.ipynb#overview)- [Background](markov_perf.ipynb#background)- [Linear Markov perfect equilibria](markov_perf.ipynb#linear-markov-perfect-equilibria)- [Application](markov_perf.ipynb#application)- [Exercises](markov_perf.ipynb#exercises)- [Solutions](markov_perf.ipynb#solutions)- [Robust Markov Perfect Equilibrium](rob_markov_perf.ipynb#)- [Overview](rob_markov_perf.ipynb#overview)- [Linear Markov perfect equilibria with robust agents](rob_markov_perf.ipynb#linear-markov-perfect-equilibria-with-robust-agents)- [Application](rob_markov_perf.ipynb#application)- [Asset Pricing I: Finite State Models](markov_asset.ipynb#)- [Overview](markov_asset.ipynb#overview)- [Pricing Models](markov_asset.ipynb#pricing-models)- [Prices in the Risk Neutral Case](markov_asset.ipynb#prices-in-the-risk-neutral-case)- [Asset Prices under Risk Aversion](markov_asset.ipynb#asset-prices-under-risk-aversion)- [Exercises](markov_asset.ipynb#exercises)- [Solutions](markov_asset.ipynb#solutions)- [Asset Pricing II: The Lucas Asset Pricing Model](lucas_model.ipynb#)- [Overview](lucas_model.ipynb#overview)- [The Lucas Model](lucas_model.ipynb#the-lucas-model)- [Exercises](lucas_model.ipynb#exercises)- [Solutions](lucas_model.ipynb#solutions)- [Asset Pricing III:  Incomplete Markets](harrison_kreps.ipynb#)- [Overview](harrison_kreps.ipynb#overview)- [Structure of the Model](harrison_kreps.ipynb#structure-of-the-model)- [Solving the Model](harrison_kreps.ipynb#solving-the-model)- [Exercises](harrison_kreps.ipynb#exercises)- [Solutions](harrison_kreps.ipynb#solutions)- [Uncertainty Traps](uncertainty_traps.ipynb#)- [Overview](uncertainty_traps.ipynb#overview)- [The Model](uncertainty_traps.ipynb#the-model)- [Implementation](uncertainty_traps.ipynb#implementation)- [Results](uncertainty_traps.ipynb#results)- [Exercises](uncertainty_traps.ipynb#exercises)- [Solutions](uncertainty_traps.ipynb#solutions)- [The Aiyagari Model](aiyagari.ipynb#)- [Overview](aiyagari.ipynb#overview)- [The Economy](aiyagari.ipynb#the-economy)- [Firms](aiyagari.ipynb#firms)- [Code](aiyagari.ipynb#code)- [Default Risk and Income Fluctuations](arellano.ipynb#)- [Overview](arellano.ipynb#overview)- [Structure](arellano.ipynb#structure)- [Equilibrium](arellano.ipynb#equilibrium)- [Computation](arellano.ipynb#computation)- [Results](arellano.ipynb#results)- [Exercises](arellano.ipynb#exercises)- [Solutions](arellano.ipynb#solutions)- [Globalization and Cycles](matsuyama.ipynb#)- [Overview](matsuyama.ipynb#overview)- [Key Ideas](matsuyama.ipynb#key-ideas)- [Model](matsuyama.ipynb#model)- [Simulation](matsuyama.ipynb#simulation)- [Exercises](matsuyama.ipynb#exercises)- [Solutions](matsuyama.ipynb#solutions)"
   ]
  }
 ],
 "metadata": {
  "kernelspec": {
   "display_name": "Python",
   "language": "python3",
   "name": "python3"
  }
 },
 "nbformat": 4,
 "nbformat_minor": 2
}
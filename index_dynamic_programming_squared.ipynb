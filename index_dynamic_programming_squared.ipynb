{
 "cells": [
  {
   "cell_type": "markdown",
   "metadata": {},
   "source": [
    "\n",
    "<a id='topics-in-economic-dynamics'></a>\n",
    "<a href=\"#\"><img src=\"/_static/img/jupyter-notebook-download-blue.svg\" id=\"notebook_download_badge\"></a>\n",
    "\n",
    "<script>\n",
    "var path = window.location.pathname;\n",
    "var pageName = path.split(\"/\").pop().split(\".\")[0];\n",
    "var downloadLink = [\"/\", \"_downloads/ipynb/py/\", pageName, \".ipynb\"].join(\"\");\n",
    "document.getElementById('notebook_download_badge').parentElement.setAttribute('href', downloadLink);\n",
    "</script>\n",
    "\n",
    "<a href=\"/status.html\"><img src=\"https://img.shields.io/badge/Execution%20test-not%20available-lightgrey.svg\" id=\"executability_status_badge\"></a>\n",
    "\n",
    "<div class=\"how-to\">\n",
    "        <a href=\"#\" class=\"toggle\"><span class=\"icon icon-angle-double-down\"></span>How to read this lecture...</a>\n",
    "        <div class=\"how-to-content\">\n",
    "                <p>Code should execute sequentially if run in a Jupyter notebook</p>\n",
    "                <ul>\n",
    "                        <li>See the <a href=\"/py/getting_started.html\">set up page</a> to install Jupyter, Python and all necessary libraries</li>\n",
    "                        <li>Please direct feedback to <a href=\"mailto:contact@quantecon.org\">contact@quantecon.org</a> or the <a href=\"http://discourse.quantecon.org/\">discourse forum</a></li>\n",
    "                </ul>\n",
    "        </div>\n",
    "</div>"
   ]
  },
  {
   "cell_type": "markdown",
   "metadata": {},
   "source": [
    "# Dynamic Programming Squared\n",
    "\n",
    "Here we look at models in which a value function for one Bellman equation has as an argument the value function for another Bellman equation\n",
    "\n",
    "- [Dynamic Stackelberg Problems](dyn_stack.ipynb#)- [Overview](dyn_stack.ipynb#overview)- [The Stackelberg Problem](dyn_stack.ipynb#the-stackelberg-problem)- [Solving the Stackelberg Problem](dyn_stack.ipynb#solving-the-stackelberg-problem)- [Shadow prices](dyn_stack.ipynb#shadow-prices)- [A Large Firm With a Competitive Fringe](dyn_stack.ipynb#a-large-firm-with-a-competitive-fringe)- [Another Example](dyn_stack.ipynb#another-example)- [Concluding Remarks](dyn_stack.ipynb#concluding-remarks)- [Exercises](dyn_stack.ipynb#exercises)- [Ramsey plans, Time Inconsistency, Sustainable Plans](calvo.ipynb#)- [Overview](calvo.ipynb#overview)- [The Model](calvo.ipynb#the-model)- [Structure](calvo.ipynb#structure)- [Intertemporal Influences](calvo.ipynb#intertemporal-influences)- [Four Models of Government Policy](calvo.ipynb#four-models-of-government-policy)- [A Ramsey Planner](calvo.ipynb#a-ramsey-planner)- [A Constrained-to-a-Constant-$ \\mu $ Ramsey Government](calvo.ipynb#a-constrained-to-a-constant-ramsey-government)- [Markov Perfect Governments](calvo.ipynb#markov-perfect-governments)- [Equilibrium Outcomes for Three Models of Government Policy Making](calvo.ipynb#equilibrium-outcomes-for-three-models-of-government-policy-making)- [A Fourth Model of Government Decision Making](calvo.ipynb#a-fourth-model-of-government-decision-making)- [Sustainable or Credible plan](calvo.ipynb#sustainable-or-credible-plan)- [Comparison of Equilibrium Values](calvo.ipynb#comparison-of-equilibrium-values)- [Note on Dynamic Programming Squared](calvo.ipynb#note-on-dynamic-programming-squared)- [Optimal Taxation in an LQ Economy](lqramsey.ipynb#)- [Overview](lqramsey.ipynb#overview)- [The Ramsey Problem](lqramsey.ipynb#the-ramsey-problem)- [Implementation](lqramsey.ipynb#implementation)- [Examples](lqramsey.ipynb#examples)- [Exercises](lqramsey.ipynb#exercises)- [Solutions](lqramsey.ipynb#solutions)- [Optimal Taxation with State-Contingent Debt](opt_tax_recur.ipynb#)- [Overview](opt_tax_recur.ipynb#overview)- [A Competitive Equilibrium with Distorting Taxes](opt_tax_recur.ipynb#a-competitive-equilibrium-with-distorting-taxes)- [Recursive Formulation of the Ramsey problem](opt_tax_recur.ipynb#recursive-formulation-of-the-ramsey-problem)- [Examples](opt_tax_recur.ipynb#examples)- [Optimal Taxation without State-Contingent Debt](amss.ipynb#)- [Overview](amss.ipynb#overview)- [Competitive Equilibrium with Distorting Taxes](amss.ipynb#competitive-equilibrium-with-distorting-taxes)- [Recursive Version of AMSS Model](amss.ipynb#recursive-version-of-amss-model)- [Examples](amss.ipynb#examples)- [Fluctuating Interest Rates Deliver Fiscal Insurance](amss2.ipynb#)- [Overview](amss2.ipynb#overview)- [Forces at work](amss2.ipynb#forces-at-work)- [Logical flow of  lecture](amss2.ipynb#logical-flow-of-lecture)- [Example economy](amss2.ipynb#example-economy)- [Reverse engineering strategy](amss2.ipynb#reverse-engineering-strategy)- [Code for reverse engineering](amss2.ipynb#code-for-reverse-engineering)- [Short simulation for reverse-engineered: initial debt](amss2.ipynb#short-simulation-for-reverse-engineered-initial-debt)- [Long simulation](amss2.ipynb#long-simulation)- [BEGS approximations of  limiting debt and convergence rate](amss2.ipynb#begs-approximations-of-limiting-debt-and-convergence-rate)- [Fiscal Risk and Government Debt](amss3.ipynb#)- [The economy](amss3.ipynb#the-economy)- [Long simulation](amss3.ipynb#long-simulation)- [Asymptotic mean and rate of convergence](amss3.ipynb#asymptotic-mean-and-rate-of-convergence)- [Competitive Equilibria of Chang Model](chang_ramsey.ipynb#)- [Overview](chang_ramsey.ipynb#overview)- [Setting](chang_ramsey.ipynb#setting)- [Competitive equilibrium](chang_ramsey.ipynb#competitive-equilibrium)- [Inventory of objects in play](chang_ramsey.ipynb#inventory-of-objects-in-play)- [Analysis](chang_ramsey.ipynb#analysis)- [Calculating all $ (w,\\theta) $ pairs in $ CE $](chang_ramsey.ipynb#calculating-all-pairs-in)- [Solving a continuation Ramsey planner’s Bellman equation](chang_ramsey.ipynb#solving-a-continuation-ramsey-planner-s-bellman-equation)- [Credible Government Policies in Chang Model](chang_credible.ipynb#)- [Overview](chang_credible.ipynb#overview)- [The setting](chang_credible.ipynb#the-setting)- [Calculating  set of sustainable $ (w,\\theta) $ pairs](chang_credible.ipynb#calculating-set-of-sustainable-pairs)"
   ]
  }
 ],
 "metadata": {
  "kernelspec": {
   "display_name": "Python",
   "language": "python3",
   "name": "python3"
  }
 },
 "nbformat": 4,
 "nbformat_minor": 2
}
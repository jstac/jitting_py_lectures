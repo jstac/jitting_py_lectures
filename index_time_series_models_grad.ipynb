{
 "cells": [
  {
   "cell_type": "markdown",
   "metadata": {},
   "source": [
    "<a href=\"#\"><img src=\"/_static/img/jupyter-notebook-download-blue.svg\" id=\"notebook_download_badge\"></a>\n",
    "\n",
    "<script>\n",
    "var path = window.location.pathname;\n",
    "var pageName = path.split(\"/\").pop().split(\".\")[0];\n",
    "var downloadLink = [\"/\", \"_downloads/ipynb/py/\", pageName, \".ipynb\"].join(\"\");\n",
    "document.getElementById('notebook_download_badge').parentElement.setAttribute('href', downloadLink);\n",
    "</script>\n",
    "\n",
    "<a href=\"/status.html\"><img src=\"https://img.shields.io/badge/Execution%20test-not%20available-lightgrey.svg\" id=\"executability_status_badge\"></a>\n",
    "\n",
    "<div class=\"how-to\">\n",
    "        <a href=\"#\" class=\"toggle\"><span class=\"icon icon-angle-double-down\"></span>How to read this lecture...</a>\n",
    "        <div class=\"how-to-content\">\n",
    "                <p>Code should execute sequentially if run in a Jupyter notebook</p>\n",
    "                <ul>\n",
    "                        <li>See the <a href=\"/py/getting_started.html\">set up page</a> to install Jupyter, Python and all necessary libraries</li>\n",
    "                        <li>Please direct feedback to <a href=\"mailto:contact@quantecon.org\">contact@quantecon.org</a> or the <a href=\"http://discourse.quantecon.org/\">discourse forum</a></li>\n",
    "                </ul>\n",
    "        </div>\n",
    "</div>"
   ]
  },
  {
   "cell_type": "markdown",
   "metadata": {},
   "source": [
    "# Time Series Models\n",
    "\n",
    "These lectures look at important concepts in time series that are used in economics\n",
    "\n",
    "- [Covariance Stationary Processes](arma.ipynb#)- [Overview](arma.ipynb#overview)- [Introduction](arma.ipynb#introduction)- [Spectral Analysis](arma.ipynb#id12)- [Implementation](arma.ipynb#implementation)- [Estimation of Spectra](estspec.ipynb#)- [Overview](estspec.ipynb#overview)- [Periodograms](estspec.ipynb#periodograms)- [Smoothing](estspec.ipynb#smoothing)- [Exercises](estspec.ipynb#exercises)- [Solutions](estspec.ipynb#solutions)- [Additive Functionals](additive_functionals.ipynb#)- [Overview](additive_functionals.ipynb#overview)- [A Particular Additive Functional](additive_functionals.ipynb#a-particular-additive-functional)- [Dynamics](additive_functionals.ipynb#dynamics)- [Code](additive_functionals.ipynb#code)- [Multiplicative Functionals](multiplicative_functionals.ipynb#)- [Overview](multiplicative_functionals.ipynb#overview)- [A Log-Likelihood Process](multiplicative_functionals.ipynb#a-log-likelihood-process)- [Benefits from Reduced Aggregate Fluctuations](multiplicative_functionals.ipynb#benefits-from-reduced-aggregate-fluctuations)- [Classical Control with Linear Algebra](lu_tricks.ipynb#)- [Overview](lu_tricks.ipynb#overview)- [A Control Problem](lu_tricks.ipynb#a-control-problem)- [Finite Horizon Theory](lu_tricks.ipynb#finite-horizon-theory)- [The Infinite Horizon Limit](lu_tricks.ipynb#the-infinite-horizon-limit)- [Undiscounted Problems](lu_tricks.ipynb#undiscounted-problems)- [Implementation](lu_tricks.ipynb#implementation)- [Exercises](lu_tricks.ipynb#exercises)- [Classical Filtering With Linear Algebra](classical_filtering.ipynb#)- [Overview](classical_filtering.ipynb#overview)- [Infinite Horizon Prediction and Filtering Problems](classical_filtering.ipynb#infinite-horizon-prediction-and-filtering-problems)- [Finite Dimensional Prediction](classical_filtering.ipynb#finite-dimensional-prediction)- [Combined Finite Dimensional Control and Prediction](classical_filtering.ipynb#combined-finite-dimensional-control-and-prediction)- [Exercises](classical_filtering.ipynb#exercises)"
   ]
  }
 ],
 "metadata": {
  "kernelspec": {
   "display_name": "Python",
   "language": "python3",
   "name": "python3"
  }
 },
 "nbformat": 4,
 "nbformat_minor": 2
}
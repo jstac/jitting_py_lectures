{
 "cells": [
  {
   "cell_type": "markdown",
   "metadata": {},
   "source": [
    "computational-economics documentation master fileCOMMENT: Link for Python Specific Badge <p id=\"py_percentage\"><a href=\"/status.html\"></a></p><p><a href=\"https://www.numfocus.org/\"><img src=\"/_static/img/powered-by-NumFOCUS-orange.svg\" alt=\"Powered by NumFOCUS logo\"></a></p><ul class=\"index-tabs\">\n",
    "    <li><a href=\"/py/\">All</a></li>\n",
    "    <li class=\"active\"><a href=\"/py/index_undergrad.html\">Undergraduate course</a></li>\n",
    "    <li><a href=\"/py/index_postgrad.html\">Graduate course</a></li>\n",
    "</ul>- [Introduction to Python](index_learning_python.ipynb#)- [About Python](about_py.ipynb#)- [Setting up Your Python Environment](getting_started.ipynb#)- [An Introductory Example](python_by_example.ipynb#)- [Python Essentials](python_essentials.ipynb#)- [OOP I: Introduction to Object Oriented Programming](oop_intro.ipynb#)- [The Scientific Libraries](index_python_scientific_libraries.ipynb#)- [NumPy](numpy.ipynb#)- [Matplotlib](matplotlib.ipynb#)- [SciPy](scipy.ipynb#)- [Numba](numba.ipynb#)- [Other Scientific Libraries](sci_libs.ipynb#)- [Advanced Python Programming](index_advanced_python_programming.ipynb#)- [Writing Good Code](writing_good_code.ipynb#)- [OOP II: Building Classes](python_oop.ipynb#)- [OOP III: The Samuelson Accelerator](samuelson.ipynb#)- [More Language Features](python_advanced_features.ipynb#)- [Debugging](debugging.ipynb#)- [Data and Empirics](index_data_and_empirics.ipynb#)- [Pandas](pandas.ipynb#)- [Pandas for Panel Data](pandas_panel.ipynb#)- [Linear Regression in Python](ols.ipynb#)- [Maximum Likelihood Estimation](mle.ipynb#)- [Tools and Techniques](index_tools_and_techniques_undergrad.ipynb#)- [Linear Algebra](linear_algebra.ipynb#)- [LLN and CLT](lln_clt.ipynb#)- [Linear State Space Models](linear_models.ipynb#)- [Finite Markov Chains](finite_markov.ipynb#)- [A First Look at the Kalman Filter](kalman.ipynb#)- [Dynamic Programming](index_dynamic_programming_undergrad.ipynb#)- [Shortest Paths](short_path.ipynb#)- [Job Search I: The McCall Search Model](mccall_model.ipynb#)- [Job Search II: Search and Separation](mccall_model_with_separation.ipynb#)- [Optimal Savings I: The Permanent Income Model](perm_income.ipynb#)- [Optimal Savings II: LQ Techniques](perm_income_cons.ipynb#)- [Consumption and Tax Smoothing with Complete and Incomplete Markets](smoothing.ipynb#)- [Multiple Agent Models](index_multi_agent_models_undergrad.ipynb#)- [Schelling’s Segregation Model](schelling.ipynb#)- [A Lake Model of Employment and Unemployment](lake_model.ipynb#)- [Rational Expectations Equilibrium](rational_expectations.ipynb#)- [Markov Perfect Equilibrium](markov_perf.ipynb#)- [Asset Pricing I: Finite State Models](markov_asset.ipynb#)\n",
    "\n",
    "<img src=\"_static/banner.png\" style=\"width:30%;height:30%\" align=\"center\">"
   ]
  }
 ],
 "metadata": {
  "kernelspec": {
   "display_name": "Python",
   "language": "python3",
   "name": "python3"
  }
 },
 "nbformat": 4,
 "nbformat_minor": 2
}
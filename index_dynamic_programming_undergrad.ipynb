{
 "cells": [
  {
   "cell_type": "markdown",
   "metadata": {},
   "source": [
    "\n",
    "<a id='single-agent-models'></a>\n",
    "<a href=\"#\"><img src=\"/_static/img/jupyter-notebook-download-blue.svg\" id=\"notebook_download_badge\"></a>\n",
    "\n",
    "<script>\n",
    "var path = window.location.pathname;\n",
    "var pageName = path.split(\"/\").pop().split(\".\")[0];\n",
    "var downloadLink = [\"/\", \"_downloads/ipynb/py/\", pageName, \".ipynb\"].join(\"\");\n",
    "document.getElementById('notebook_download_badge').parentElement.setAttribute('href', downloadLink);\n",
    "</script>\n",
    "\n",
    "<a href=\"/status.html\"><img src=\"https://img.shields.io/badge/Execution%20test-not%20available-lightgrey.svg\" id=\"executability_status_badge\"></a>\n",
    "\n",
    "<div class=\"how-to\">\n",
    "        <a href=\"#\" class=\"toggle\"><span class=\"icon icon-angle-double-down\"></span>How to read this lecture...</a>\n",
    "        <div class=\"how-to-content\">\n",
    "                <p>Code should execute sequentially if run in a Jupyter notebook</p>\n",
    "                <ul>\n",
    "                        <li>See the <a href=\"/py/getting_started.html\">set up page</a> to install Jupyter, Python and all necessary libraries</li>\n",
    "                        <li>Please direct feedback to <a href=\"mailto:contact@quantecon.org\">contact@quantecon.org</a> or the <a href=\"http://discourse.quantecon.org/\">discourse forum</a></li>\n",
    "                </ul>\n",
    "        </div>\n",
    "</div>"
   ]
  },
  {
   "cell_type": "markdown",
   "metadata": {},
   "source": [
    "# Dynamic Programming\n",
    "\n",
    "This section of the course contains foundational models for dynamic economic\n",
    "modeling.   Most are single agent problems that take the activities of other\n",
    "agents as given.  Later we will look at full equilibrium problems.\n",
    "\n",
    "- [Shortest Paths](short_path.ipynb#)- [Overview](short_path.ipynb#overview)- [Outline of the Problem](short_path.ipynb#outline-of-the-problem)- [Finding Least-Cost Paths](short_path.ipynb#finding-least-cost-paths)- [Solving for $ J $](short_path.ipynb#solving-for)- [Exercises](short_path.ipynb#exercises)- [Solutions](short_path.ipynb#solutions)- [Job Search I: The McCall Search Model](mccall_model.ipynb#)- [Overview](mccall_model.ipynb#overview)- [The McCall Model](mccall_model.ipynb#the-mccall-model)- [Computing the Optimal Policy: Take 1](mccall_model.ipynb#computing-the-optimal-policy-take-1)- [Computing the Optimal Policy: Take 2](mccall_model.ipynb#computing-the-optimal-policy-take-2)- [Exercises](mccall_model.ipynb#exercises)- [Solutions](mccall_model.ipynb#solutions)- [Job Search II: Search and Separation](mccall_model_with_separation.ipynb#)- [Overview](mccall_model_with_separation.ipynb#overview)- [The Model](mccall_model_with_separation.ipynb#the-model)- [Solving the Model using Dynamic Programming](mccall_model_with_separation.ipynb#solving-the-model-using-dynamic-programming)- [Implementation](mccall_model_with_separation.ipynb#implementation)- [The Reservation Wage](mccall_model_with_separation.ipynb#the-reservation-wage)- [Exercises](mccall_model_with_separation.ipynb#exercises)- [Solutions](mccall_model_with_separation.ipynb#solutions)- [Optimal Savings I: The Permanent Income Model](perm_income.ipynb#)- [Overview](perm_income.ipynb#overview)- [The Savings Problem](perm_income.ipynb#the-savings-problem)- [Alternative Representations](perm_income.ipynb#alternative-representations)- [Two Classic Examples](perm_income.ipynb#two-classic-examples)- [Further Reading](perm_income.ipynb#further-reading)- [Appendix: the Euler Equation](perm_income.ipynb#appendix-the-euler-equation)- [Optimal Savings II: LQ Techniques](perm_income_cons.ipynb#)- [Overview](perm_income_cons.ipynb#overview)- [Setup](perm_income_cons.ipynb#setup)- [The LQ Approach](perm_income_cons.ipynb#the-lq-approach)- [Implementation](perm_income_cons.ipynb#implementation)- [Two Example Economies](perm_income_cons.ipynb#two-example-economies)- [Consumption and Tax Smoothing with Complete and Incomplete Markets](smoothing.ipynb#)- [Overview](smoothing.ipynb#overview)- [Background](smoothing.ipynb#background)- [Model 1 (Complete Markets)](smoothing.ipynb#model-1-complete-markets)- [Model 2 (One-Period Risk Free Debt Only)](smoothing.ipynb#model-2-one-period-risk-free-debt-only)- [Example: Tax Smoothing with Complete Markets](smoothing.ipynb#example-tax-smoothing-with-complete-markets)- [Linear State Space Version of Complete Markets Model](smoothing.ipynb#linear-state-space-version-of-complete-markets-model)"
   ]
  }
 ],
 "metadata": {
  "kernelspec": {
   "display_name": "Python",
   "language": "python3",
   "name": "python3"
  }
 },
 "nbformat": 4,
 "nbformat_minor": 2
}
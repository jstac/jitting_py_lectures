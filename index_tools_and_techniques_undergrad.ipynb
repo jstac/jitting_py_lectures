{
 "cells": [
  {
   "cell_type": "markdown",
   "metadata": {},
   "source": [
    "\n",
    "<a id='tools-and-techniques'></a>\n",
    "<a href=\"#\"><img src=\"/_static/img/jupyter-notebook-download-blue.svg\" id=\"notebook_download_badge\"></a>\n",
    "\n",
    "<script>\n",
    "var path = window.location.pathname;\n",
    "var pageName = path.split(\"/\").pop().split(\".\")[0];\n",
    "var downloadLink = [\"/\", \"_downloads/ipynb/py/\", pageName, \".ipynb\"].join(\"\");\n",
    "document.getElementById('notebook_download_badge').parentElement.setAttribute('href', downloadLink);\n",
    "</script>\n",
    "\n",
    "<a href=\"/status.html\"><img src=\"https://img.shields.io/badge/Execution%20test-not%20available-lightgrey.svg\" id=\"executability_status_badge\"></a>\n",
    "\n",
    "<div class=\"how-to\">\n",
    "        <a href=\"#\" class=\"toggle\"><span class=\"icon icon-angle-double-down\"></span>How to read this lecture...</a>\n",
    "        <div class=\"how-to-content\">\n",
    "                <p>Code should execute sequentially if run in a Jupyter notebook</p>\n",
    "                <ul>\n",
    "                        <li>See the <a href=\"/py/getting_started.html\">set up page</a> to install Jupyter, Python and all necessary libraries</li>\n",
    "                        <li>Please direct feedback to <a href=\"mailto:contact@quantecon.org\">contact@quantecon.org</a> or the <a href=\"http://discourse.quantecon.org/\">discourse forum</a></li>\n",
    "                </ul>\n",
    "        </div>\n",
    "</div>"
   ]
  },
  {
   "cell_type": "markdown",
   "metadata": {},
   "source": [
    "# Tools and Techniques\n",
    "\n",
    "This section of the course contains foundational mathematical and statistical\n",
    "tools and techniques\n",
    "\n",
    "- [Linear Algebra](linear_algebra.ipynb#)- [Overview](linear_algebra.ipynb#overview)- [Vectors](linear_algebra.ipynb#vectors)- [Matrices](linear_algebra.ipynb#matrices)- [Solving Systems of Equations](linear_algebra.ipynb#solving-systems-of-equations)- [Eigenvalues and Eigenvectors](linear_algebra.ipynb#eigenvalues-and-eigenvectors)- [Further Topics](linear_algebra.ipynb#further-topics)- [Exercises](linear_algebra.ipynb#exercises)- [Solutions](linear_algebra.ipynb#solutions)- [LLN and CLT](lln_clt.ipynb#)- [Overview](lln_clt.ipynb#overview)- [Relationships](lln_clt.ipynb#relationships)- [LLN](lln_clt.ipynb#lln)- [CLT](lln_clt.ipynb#clt)- [Exercises](lln_clt.ipynb#exercises)- [Solutions](lln_clt.ipynb#solutions)- [Linear State Space Models](linear_models.ipynb#)- [Overview](linear_models.ipynb#overview)- [The Linear State Space Model](linear_models.ipynb#the-linear-state-space-model)- [Distributions and Moments](linear_models.ipynb#distributions-and-moments)- [Stationarity and Ergodicity](linear_models.ipynb#stationarity-and-ergodicity)- [Noisy Observations](linear_models.ipynb#noisy-observations)- [Prediction](linear_models.ipynb#prediction)- [Code](linear_models.ipynb#code)- [Exercises](linear_models.ipynb#exercises)- [Solutions](linear_models.ipynb#solutions)- [Finite Markov Chains](finite_markov.ipynb#)- [Overview](finite_markov.ipynb#overview)- [Definitions](finite_markov.ipynb#definitions)- [Simulation](finite_markov.ipynb#simulation)- [Marginal Distributions](finite_markov.ipynb#marginal-distributions)- [Irreducibility and Aperiodicity](finite_markov.ipynb#irreducibility-and-aperiodicity)- [Stationary Distributions](finite_markov.ipynb#stationary-distributions)- [Ergodicity](finite_markov.ipynb#ergodicity)- [Computing Expectations](finite_markov.ipynb#computing-expectations)- [Exercises](finite_markov.ipynb#exercises)- [Solutions](finite_markov.ipynb#solutions)- [A First Look at the Kalman Filter](kalman.ipynb#)- [Overview](kalman.ipynb#overview)- [The Basic Idea](kalman.ipynb#the-basic-idea)- [Convergence](kalman.ipynb#convergence)- [Implementation](kalman.ipynb#implementation)- [Exercises](kalman.ipynb#exercises)- [Solutions](kalman.ipynb#solutions)"
   ]
  }
 ],
 "metadata": {
  "kernelspec": {
   "display_name": "Python",
   "language": "python3",
   "name": "python3"
  }
 },
 "nbformat": 4,
 "nbformat_minor": 2
}
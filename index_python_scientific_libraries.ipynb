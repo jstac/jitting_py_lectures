{
 "cells": [
  {
   "cell_type": "markdown",
   "metadata": {},
   "source": [
    "\n",
    "<a id='learning-python'></a>\n",
    "<a href=\"#\"><img src=\"/_static/img/jupyter-notebook-download-blue.svg\" id=\"notebook_download_badge\"></a>\n",
    "\n",
    "<script>\n",
    "var path = window.location.pathname;\n",
    "var pageName = path.split(\"/\").pop().split(\".\")[0];\n",
    "var downloadLink = [\"/\", \"_downloads/ipynb/py/\", pageName, \".ipynb\"].join(\"\");\n",
    "document.getElementById('notebook_download_badge').parentElement.setAttribute('href', downloadLink);\n",
    "</script>\n",
    "\n",
    "<a href=\"/status.html\"><img src=\"https://img.shields.io/badge/Execution%20test-not%20available-lightgrey.svg\" id=\"executability_status_badge\"></a>\n",
    "\n",
    "<div class=\"how-to\">\n",
    "        <a href=\"#\" class=\"toggle\"><span class=\"icon icon-angle-double-down\"></span>How to read this lecture...</a>\n",
    "        <div class=\"how-to-content\">\n",
    "                <p>Code should execute sequentially if run in a Jupyter notebook</p>\n",
    "                <ul>\n",
    "                        <li>See the <a href=\"/py/getting_started.html\">set up page</a> to install Jupyter, Python and all necessary libraries</li>\n",
    "                        <li>Please direct feedback to <a href=\"mailto:contact@quantecon.org\">contact@quantecon.org</a> or the <a href=\"http://discourse.quantecon.org/\">discourse forum</a></li>\n",
    "                </ul>\n",
    "        </div>\n",
    "</div>"
   ]
  },
  {
   "cell_type": "markdown",
   "metadata": {},
   "source": [
    "# The Scientific Libraries\n",
    "\n",
    "Next we cover the third party libraries most useful for scientific work in Python\n",
    "\n",
    "- [NumPy](numpy.ipynb#)- [Overview](numpy.ipynb#overview)- [Introduction to NumPy](numpy.ipynb#introduction-to-numpy)- [NumPy Arrays](numpy.ipynb#numpy-arrays)- [Operations on Arrays](numpy.ipynb#operations-on-arrays)- [Additional Functionality](numpy.ipynb#additional-functionality)- [Exercises](numpy.ipynb#exercises)- [Solutions](numpy.ipynb#solutions)- [Matplotlib](matplotlib.ipynb#)- [Overview](matplotlib.ipynb#overview)- [The APIs](matplotlib.ipynb#the-apis)- [More Features](matplotlib.ipynb#more-features)- [Further Reading](matplotlib.ipynb#further-reading)- [Exercises](matplotlib.ipynb#exercises)- [Solutions](matplotlib.ipynb#solutions)- [SciPy](scipy.ipynb#)- [SciPy versus NumPy](scipy.ipynb#scipy-versus-numpy)- [Statistics](scipy.ipynb#statistics)- [Roots and Fixed Points](scipy.ipynb#roots-and-fixed-points)- [Optimization](scipy.ipynb#id2)- [Integration](scipy.ipynb#integration)- [Linear Algebra](scipy.ipynb#id3)- [Exercises](scipy.ipynb#exercises)- [Solutions](scipy.ipynb#solutions)- [Numba](numba.ipynb#)- [Overview](numba.ipynb#overview)- [Where are the Bottlenecks?](numba.ipynb#where-are-the-bottlenecks)- [Vectorization](numba.ipynb#vectorization)- [Numba](numba.ipynb#numba-link)- [Other Scientific Libraries](sci_libs.ipynb#)- [Overview](sci_libs.ipynb#overview)- [Cython](sci_libs.ipynb#cython)- [Joblib](sci_libs.ipynb#joblib)- [Other Options](sci_libs.ipynb#other-options)- [Exercises](sci_libs.ipynb#exercises)- [Solutions](sci_libs.ipynb#solutions)"
   ]
  }
 ],
 "metadata": {
  "kernelspec": {
   "display_name": "Python",
   "language": "python3",
   "name": "python3"
  }
 },
 "nbformat": 4,
 "nbformat_minor": 2
}
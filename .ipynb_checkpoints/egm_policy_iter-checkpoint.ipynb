{
 "cells": [
  {
   "cell_type": "markdown",
   "metadata": {},
   "source": [
    "\n",
    "<a id='egm-policy-iter'></a>\n",
    "<a href=\"#\"><img src=\"/_static/img/jupyter-notebook-download-blue.svg\" id=\"notebook_download_badge\"></a>\n",
    "\n",
    "<script>\n",
    "var path = window.location.pathname;\n",
    "var pageName = path.split(\"/\").pop().split(\".\")[0];\n",
    "var downloadLink = [\"/\", \"_downloads/ipynb/py/\", pageName, \".ipynb\"].join(\"\");\n",
    "document.getElementById('notebook_download_badge').parentElement.setAttribute('href', downloadLink);\n",
    "</script>\n",
    "\n",
    "<a href=\"/status.html\"><img src=\"https://img.shields.io/badge/Execution%20test-not%20available-lightgrey.svg\" id=\"executability_status_badge\"></a>\n",
    "\n",
    "<div class=\"how-to\">\n",
    "        <a href=\"#\" class=\"toggle\"><span class=\"icon icon-angle-double-down\"></span>How to read this lecture...</a>\n",
    "        <div class=\"how-to-content\">\n",
    "                <p>Code should execute sequentially if run in a Jupyter notebook</p>\n",
    "                <ul>\n",
    "                        <li>See the <a href=\"/py/getting_started.html\">set up page</a> to install Jupyter, Python and all necessary libraries</li>\n",
    "                        <li>Please direct feedback to <a href=\"mailto:contact@quantecon.org\">contact@quantecon.org</a> or the <a href=\"http://discourse.quantecon.org/\">discourse forum</a></li>\n",
    "                </ul>\n",
    "        </div>\n",
    "</div>"
   ]
  },
  {
   "cell_type": "markdown",
   "metadata": {},
   "source": [
    "# Optimal Growth III: The Endogenous Grid Method"
   ]
  },
  {
   "cell_type": "markdown",
   "metadata": {},
   "source": [
    "## Contents\n",
    "\n",
    "- [Optimal Growth III: The Endogenous Grid Method](#Optimal-Growth-III:-The-Endogenous-Grid-Method)  \n",
    "  - [Overview](#Overview)  \n",
    "  - [Key Idea](#Key-Idea)  \n",
    "  - [Implementation](#Implementation)  \n",
    "  - [Speed](#Speed)  "
   ]
  },
  {
   "cell_type": "markdown",
   "metadata": {},
   "source": [
    "## Overview\n",
    "\n",
    "We solved the stochastic optimal growth model using\n",
    "\n",
    "1. [value function iteration](optgrowth.ipynb#)  \n",
    "1. [Euler equation based time iteration](coleman_policy_iter.ipynb#)  \n",
    "\n",
    "\n",
    "We found time iteration to be significantly more accurate at each step\n",
    "\n",
    "In this lecture we’ll look at an ingenious twist on the time iteration technique called the **endogenous grid method** (EGM)\n",
    "\n",
    "EGM is a numerical method for implementing policy iteration invented by [Chris Carroll](http://www.econ2.jhu.edu/people/ccarroll/)\n",
    "\n",
    "It is a good example of how a clever algorithm can save a massive amount of computer time\n",
    "\n",
    "(Massive when we multiply saved CPU cycles on each implementation times the number of implementations worldwide)\n",
    "\n",
    "The original reference is [[Car06]](zreferences.ipynb#carroll2006)"
   ]
  },
  {
   "cell_type": "markdown",
   "metadata": {},
   "source": [
    "## Key Idea\n",
    "\n",
    "Let’s start by reminding ourselves of the theory and then see how the numerics fit in"
   ]
  },
  {
   "cell_type": "markdown",
   "metadata": {},
   "source": [
    "### Theory\n",
    "\n",
    "Take the model set out in [the time iteration lecture](coleman_policy_iter.ipynb#), following the same terminology and notation\n",
    "\n",
    "The Euler equation is\n",
    "\n",
    "\n",
    "<a id='equation-egm_euler'></a>\n",
    "<table width=100%><tr style='background-color: #FFFFFF !important;'>\n",
    "<td width=10%></td>\n",
    "<td width=80%>\n",
    "$$\n",
    "(u'\\circ c^*)(y)\n",
    "= \\beta \\int (u'\\circ c^*)(f(y - c^*(y)) z) f'(y - c^*(y)) z \\phi(dz)\n",
    "$$\n",
    "</td><td width=10% style='text-align:center !important;'>\n",
    "(1)\n",
    "</td></tr></table>\n",
    "\n",
    "As we saw, the Coleman operator is a nonlinear operator $ K $ engineered so that $ c^* $ is a fixed point of $ K $\n",
    "\n",
    "It takes as its argument a continuous strictly increasing consumption policy $ g \\in \\Sigma $\n",
    "\n",
    "It returns a new function $ Kg $,  where $ (Kg)(y) $ is the $ c \\in (0, \\infty) $ that solves\n",
    "\n",
    "\n",
    "<a id='equation-egm_coledef'></a>\n",
    "<table width=100%><tr style='background-color: #FFFFFF !important;'>\n",
    "<td width=10%></td>\n",
    "<td width=80%>\n",
    "$$\n",
    "u'(c)\n",
    "= \\beta \\int (u' \\circ g) (f(y - c) z ) f'(y - c) z \\phi(dz)\n",
    "$$\n",
    "</td><td width=10% style='text-align:center !important;'>\n",
    "(2)\n",
    "</td></tr></table>"
   ]
  },
  {
   "cell_type": "markdown",
   "metadata": {},
   "source": [
    "### Exogenous Grid\n",
    "\n",
    "As discussed in [the lecture on time iteration](coleman_policy_iter.ipynb#), to implement the method on a computer we need numerical approximation\n",
    "\n",
    "In particular, we represent a policy function by a set of values on a finite grid\n",
    "\n",
    "The function itself is reconstructed from this representation when necessary, using interpolation or some other method\n",
    "\n",
    "[Previously](coleman_policy_iter.ipynb#), to obtain a finite representation of an updated consumption policy we\n",
    "\n",
    "- fixed a grid of income points $ \\{y_i\\} $  \n",
    "- calculated the consumption value $ c_i $ corresponding to each\n",
    "  $ y_i $ using [(2)](#equation-egm_coledef) and a root finding routine  \n",
    "\n",
    "\n",
    "Each $ c_i $ is then interpreted as the value of the function $ K g $ at $ y_i $\n",
    "\n",
    "Thus, with the points $ \\{y_i, c_i\\} $ in hand, we can reconstruct $ Kg $ via approximation\n",
    "\n",
    "Iteration then continues…"
   ]
  },
  {
   "cell_type": "markdown",
   "metadata": {},
   "source": [
    "### Endogenous Grid\n",
    "\n",
    "The method discussed above requires a root finding routine to find the\n",
    "$ c_i $ corresponding to a given income value $ y_i $\n",
    "\n",
    "Root finding is costly because it typically involves a significant number of\n",
    "function evaluations\n",
    "\n",
    "As pointed out by Carroll [[Car06]](zreferences.ipynb#carroll2006), we can avoid this if\n",
    "$ y_i $ is chosen endogenously\n",
    "\n",
    "The only assumption required is that $ u' $ is invertible on $ (0, \\infty) $\n",
    "\n",
    "The idea is this:\n",
    "\n",
    "First we fix an *exogenous* grid $ \\{k_i\\} $ for capital ($ k = y - c $)\n",
    "\n",
    "Then we obtain  $ c_i $ via\n",
    "\n",
    "\n",
    "<a id='equation-egm_getc'></a>\n",
    "<table width=100%><tr style='background-color: #FFFFFF !important;'>\n",
    "<td width=10%></td>\n",
    "<td width=80%>\n",
    "$$\n",
    "c_i =\n",
    "(u')^{-1}\n",
    "\\left\\{\n",
    "    \\beta \\int (u' \\circ g) (f(k_i) z ) \\, f'(k_i) \\, z \\, \\phi(dz)\n",
    "\\right\\}\n",
    "$$\n",
    "</td><td width=10% style='text-align:center !important;'>\n",
    "(3)\n",
    "</td></tr></table>\n",
    "\n",
    "where $ (u')^{-1} $ is the inverse function of $ u' $\n",
    "\n",
    "Finally, for each $ c_i $ we set $ y_i = c_i + k_i $\n",
    "\n",
    "It is clear that each $ (y_i, c_i) $ pair constructed in this manner satisfies [(2)](#equation-egm_coledef)\n",
    "\n",
    "With the points $ \\{y_i, c_i\\} $ in hand, we can reconstruct $ Kg $ via approximation as before\n",
    "\n",
    "The name EGM comes from the fact that the grid $ \\{y_i\\} $ is  determined **endogenously**"
   ]
  },
  {
   "cell_type": "markdown",
   "metadata": {},
   "source": [
    "## Implementation\n",
    "\n",
    "Let’s implement this version of the Coleman operator and see how it performs"
   ]
  },
  {
   "cell_type": "markdown",
   "metadata": {},
   "source": [
    "Let’s test out the code above on some example parameterizations, after the following imports"
   ]
  },
  {
   "cell_type": "code",
   "execution_count": null,
   "metadata": {},
   "outputs": [],
   "source": [
    "import numpy as np\n",
    "import matplotlib.pyplot as plt\n",
    "from interpolation import interp\n",
    "from numba import njit, prange\n",
    "from quantecon.optimize import brentq"
   ]
  },
  {
   "cell_type": "markdown",
   "metadata": {},
   "source": [
    "First we define an Optimal Growth Model class that stores the primitives of our problem in a class as we did in [value function iteration lecture](optgrowth.ipynb#) and [time iteration](coleman_policy_iter.ipynb#)"
   ]
  },
  {
   "cell_type": "code",
   "execution_count": null,
   "metadata": {},
   "outputs": [],
   "source": [
    "class OptimalGrowthModel:\n",
    "    \"\"\"\n",
    "    Log linear optimal growth model, with log utility, CD production and\n",
    "    multiplicative lognormal shock, so that\n",
    "\n",
    "        y = f(k, z) = z k^α\n",
    "\n",
    "    with z ~ LN(μ, s).\n",
    "\n",
    "    The class holds parameters and true value and policy functions.\n",
    "    \"\"\"\n",
    "\n",
    "    def __init__(self,\n",
    "                 g,                   # guess of policy function\n",
    "                 f,                   # production function\n",
    "                 f_prime,             # marginal product of capital per-capita\n",
    "                 u,                   # utility \n",
    "                 u_prime,             # marginal utility\n",
    "                 u_prime_inv,         # marginal utility inverse\n",
    "                 α=0.4,               # Cobb Douglas output elasticity\n",
    "                 β=0.96,              # discount factor \n",
    "                 μ=0,                 # shock parameter\n",
    "                 s=0.1,               # shock parameter\n",
    "                 grid_max = 4,        # Largest grid point, exogenous grid\n",
    "                 grid_size = 200,     # Number of grid points\n",
    "                 shock_size = 250):     # Number of shock draws in Monte Carlo integral\n",
    "        self.α, self.β, self.μ, self.s = α, β, μ, s \n",
    "        self.u = u\n",
    "        self.f = f\n",
    "        self.f_prime = f_prime\n",
    "        self.u_prime = u_prime\n",
    "        self.g = g\n",
    "        self.u_prime_inv = u_prime_inv\n",
    "\n",
    "\n",
    "                 \n",
    "        # == Some useful constants == #\n",
    "        self.ab = α * β\n",
    "        self.c1 = np.log(1 - self.ab) / (1 - β)\n",
    "        self.c2 = (μ + α * np.log(self.ab)) / (1 - α)\n",
    "        self.c3 = 1 / (1 - β)\n",
    "        self.c4 = 1 / (1 - self.ab)\n",
    "        k_grid=np.linspace(1e-5, grid_max, grid_size)       # Set up grid\n",
    "        self.k_grid = k_grid\n",
    "        c_guess=g(self.k_grid)\n",
    "        self.c_guess=c_guess\n",
    "        self.shocks = np.exp(μ + s * np.random.randn(shock_size))  # Store shocks"
   ]
  },
  {
   "cell_type": "markdown",
   "metadata": {},
   "source": [
    "### The Operator\n",
    "\n",
    "Here’s an implementation of $ K $ using EGM as described in the endogeneous grid section"
   ]
  },
  {
   "cell_type": "code",
   "execution_count": null,
   "metadata": {},
   "outputs": [],
   "source": [
    "def coleman_egm_factory(og, parallel_flag=True):\n",
    "    \"\"\"\n",
    "    The approximate Coleman operator, updated using the endogenous grid\n",
    "    method.  \n",
    "    \n",
    "    It builds a Coleman operator and and also includes a function that computes greedy policies.\n",
    "    \n",
    "    Here og is an instance of OptimalGrowthModel.\n",
    "    \"\"\"\n",
    "    g=og.g\n",
    "    α = og.α\n",
    "    β = og.β\n",
    "    f_prime, u_prime = og.f_prime, og.u_prime\n",
    "    u_prime_inv = og.u_prime_inv\n",
    "    f, u = og.f, og.u\n",
    "    k_grid, shocks = og.k_grid, og.shocks\n",
    "    # Allocate memory for value of consumption on endogenous grid points\n",
    "\n",
    "    # Solve for updated consumption value\n",
    "    @njit\n",
    "    def K(c_old):\n",
    "        σ = np.empty_like(k_grid)  \n",
    "        c_new = np.empty_like(k_grid)\n",
    "        for i, k in enumerate(k_grid):\n",
    "            vals = u_prime(g(f(k,α) * shocks)) * f_prime(k, α) * shocks\n",
    "            σ[i] = u_prime_inv(β * np.mean(vals))\n",
    "        y = k_grid + σ  # y_i = k_i + c_i\n",
    "        g_new = lambda x: interp(x, y, σ)\n",
    "        for i, k in enumerate(k_grid):\n",
    "            c_new[k]=g_new(f(k_grid[k],α)*shocks)\n",
    "        return c_new\n",
    "    # Determine endogenous grid\n",
    "\n",
    "\n",
    "    # Update policy function and return\n",
    "\n",
    "    return K"
   ]
  },
  {
   "cell_type": "markdown",
   "metadata": {},
   "source": [
    "Note the lack of any root finding algorithm\n",
    "\n",
    "We’ll also run our original implementation, which uses an exogenous grid and requires root finding, so we can perform some comparisons"
   ]
  },
  {
   "cell_type": "code",
   "execution_count": null,
   "metadata": {},
   "outputs": [],
   "source": [
    "def coleman_operator_factory(g, grid, β, u_prime, f, f_prime, shocks, Kg=None):\n",
    "    \"\"\"\n",
    "    The approximate Coleman operator, which takes an existing guess g of the\n",
    "    optimal consumption policy and computes and returns the updated function\n",
    "    Kg on the grid points.  An array to store the new set of values Kg is\n",
    "    optionally supplied (to avoid having to allocate new arrays at each\n",
    "    iteration).  If supplied, any existing data in Kg will be overwritten.\n",
    "\n",
    "    Parameters\n",
    "    ----------\n",
    "    g : array_like(float, ndim=1)\n",
    "        The value of the input policy function on grid points\n",
    "    grid : array_like(float, ndim=1)\n",
    "        The set of grid points\n",
    "    β : scalar\n",
    "        The discount factor\n",
    "    u_prime : function\n",
    "        The derivative u'(c) of the utility function\n",
    "    f : function\n",
    "        The production function f(k)\n",
    "    f_prime : function\n",
    "        The derivative f'(k)\n",
    "    shocks : numpy array\n",
    "        An array of draws from the shock, for Monte Carlo integration (to\n",
    "        compute expectations).\n",
    "    Kg : array_like(float, ndim=1) optional (default=None)\n",
    "        Array to write output values to\n",
    "\n",
    "    \"\"\"\n",
    "    # === Apply linear interpolation to g === #\n",
    "    g_func = lambda x: np.interp(x, grid, g)\n",
    "\n",
    "    # == Initialize Kg if necessary == #\n",
    "    if Kg is None:\n",
    "        Kg = np.empty_like(g)\n",
    "\n",
    "    # == solve for updated consumption value\n",
    "    for i, y in enumerate(grid):\n",
    "        def h(c):\n",
    "            vals = u_prime(g_func(f(y - c, α) * shocks)) * f_prime(y - c, α) * shocks\n",
    "            return u_prime(c) - β * np.mean(vals)\n",
    "        c_star = brentq(h, 1e-10, y - 1e-10)\n",
    "        Kg[i] = c_star\n",
    "\n",
    "    return Kg"
   ]
  },
  {
   "cell_type": "markdown",
   "metadata": {},
   "source": [
    "### Testing on the Log / Cobb–Douglas case\n",
    "\n",
    "As we [did for value function iteration](optgrowth.ipynb#) and [time iteration](coleman_policy_iter.ipynb#), let’s start by testing our method with the log-linear benchmark\n"
   ]
  },
  {
   "cell_type": "markdown",
   "metadata": {},
   "source": [
    "First, we generate an instance and start from the consumption policy that eats the whole pie: $ c(y) = y $ and then bring in the log-linear growth model that we used in the [value function iteration lecture](optgrowth.ipynb#) \n",
    "\n",
    "We also set global constants from the class"
   ]
  },
  {
   "cell_type": "code",
   "execution_count": null,
   "metadata": {},
   "outputs": [],
   "source": [
    "@njit\n",
    "def g(x): \n",
    "    return x\n",
    "@njit\n",
    "def u(c):\n",
    "    \" Utility \" \n",
    "    return np.log(c)\n",
    "@njit\n",
    "def u_prime(c):\n",
    "    \"Marginal utility\"\n",
    "    return 1 / c\n",
    "@njit \n",
    "def u_prime_inv(s):\n",
    "    \"Marginal utiltiy inv\"\n",
    "    return s\n",
    "@njit\n",
    "def f(k, α):\n",
    "    \" Deterministic part of production function.\"\n",
    "    return k**α\n",
    "@njit\n",
    "def f_prime(k, α):\n",
    "    \"Marginal product\"\n",
    "    return α * k**(α - 1)\n",
    "@njit\n",
    "def c_star(y, α, β):\n",
    "    \" True optimal policy.  \"\n",
    "    return (1 - α * β) * y\n",
    "@njit\n",
    "def v_star(y, c1, c2, c3, c4):\n",
    "    \" True value function. \"\n",
    "    return c1 + c2 * (c3 - c4) + c4 * np.log(y)\n",
    "og = OptimalGrowthModel(g=g, f=f, u=u, u_prime=u_prime, f_prime=f_prime, u_prime_inv = u_prime_inv)\n",
    "α, β, c1, c2, c3, c4 = og.α, og.β, og.c1, og.c2, og.c3, og.c4"
   ]
  },
  {
   "cell_type": "markdown",
   "metadata": {},
   "source": [
    "We also need a grid over capital and some shock draws for Monte Carlo integration"
   ]
  },
  {
   "cell_type": "markdown",
   "metadata": {},
   "source": [
    "As a preliminary test, let’s see if $ K c^* = c^* $, as implied by the theory"
   ]
  },
  {
   "cell_type": "code",
   "execution_count": null,
   "metadata": {},
   "outputs": [],
   "source": [
    "n = 15 #number of periods to plot\n",
    "# == Unpack parameters / functions for convenience == #\n",
    "k_grid=og.k_grid\n",
    "c_guess = og.c_guess\n",
    "K = coleman_egm_factory(og)\n",
    "\n",
    "fig, ax = plt.subplots(figsize=(9, 6))\n",
    "\n",
    "ax.plot(k_grid, c_star(k_grid, α, β), label=\"optimal policy $c^*$\")\n",
    "ax.plot(k_grid, K(g), label=\"$Kc^*$\")\n",
    "ax.legend(loc='upper left')\n",
    "plt.show()"
   ]
  },
  {
   "cell_type": "markdown",
   "metadata": {},
   "source": [
    "Notice that we’re passing u_prime to coleman_egm twice\n",
    "\n",
    "The reason is that, in the case of log utility, $ u'(c) = (u')^{-1}(c) = 1/c $\n",
    "\n",
    "Hence u_prime and u_prime_inv are the same\n",
    "\n",
    "We can’t really distinguish the two plots\n",
    "\n",
    "In fact it’s easy to see that the difference is essentially zero:"
   ]
  },
  {
   "cell_type": "code",
   "execution_count": null,
   "metadata": {},
   "outputs": [],
   "source": [
    "max(abs(K(k_grid) - c_star(k_grid, α, β)))"
   ]
  },
  {
   "cell_type": "markdown",
   "metadata": {},
   "source": [
    "Next let’s try iterating from an arbitrary initial condition and see if we\n",
    "converge towards $ c^* $\n",
    "\n",
    "Let’s start from the consumption policy that eats the whole pie: $ c(y) = y $"
   ]
  },
  {
   "cell_type": "code",
   "execution_count": null,
   "metadata": {},
   "outputs": [],
   "source": [
    "\n",
    "fig, ax = plt.subplots(figsize=(9, 6))\n",
    "lb = 'initial condition $c(y) = y$'\n",
    "\n",
    "k_grid=og.k_grid\n",
    "ax.plot(k_grid, g(k_grid), color=plt.cm.jet(0), lw=2, alpha=0.6, label=lb)\n",
    "\n",
    "for i in range(n):\n",
    "    new_g = coleman_egm_factory(og)\n",
    "    g = new_g\n",
    "    ax.plot(k_grid, g(k_grid), color=plt.cm.jet(i / n), lw=2, alpha=0.6)\n",
    "\n",
    "lb = 'true policy function $c^*$'\n",
    "ax.plot(k_grid, c_star(k_grid), 'k-', lw=2, alpha=0.8, label=lb)\n",
    "ax.legend(loc='upper left')\n",
    "plt.show()"
   ]
  },
  {
   "cell_type": "markdown",
   "metadata": {},
   "source": [
    "We see that the policy has converged nicely, in only a few steps"
   ]
  },
  {
   "cell_type": "markdown",
   "metadata": {},
   "source": [
    "## Speed\n",
    "\n",
    "Now let’s compare the clock times per iteration for the standard Coleman\n",
    "operator (with exogenous grid) and the EGM version\n",
    "\n",
    "We’ll do so using the CRRA model adopted in the exercises of the [Euler equation time iteration lecture](coleman_policy_iter.ipynb#)\n",
    "\n",
    "Here’s the model and some convenient functions"
   ]
  },
  {
   "cell_type": "code",
   "execution_count": null,
   "metadata": {},
   "outputs": [],
   "source": [
    "## Define the model\n",
    "\n",
    "γ = 1.5   # Preference parameter\n",
    "γ_inv = 1 / γ\n",
    "\n",
    "def f(self, k):\n",
    "    return k**self.α\n",
    "\n",
    "def f_prime(self, k):\n",
    "    return self.α * k**(self.α - 1)\n",
    "\n",
    "def u(self, c):\n",
    "    return (c**(1 - γ) - 1) / (1 - γ)\n",
    "\n",
    "def u_prime(c):\n",
    "    return c**(-γ)\n",
    "\n",
    "def u_prime_inv(c):\n",
    "    return c**(-γ_inv)\n",
    "\n",
    "k_grid = self.k_grid\n",
    "shocks = self.shocks\n",
    "\n",
    "## Let's make convenience functions based around these primitives\n",
    "\n",
    "def crra_coleman(g):\n",
    "    return coleman_operator(g, k_grid, β, u_prime, f, f_prime, shocks)\n",
    "\n",
    "def crra_coleman_egm(g):\n",
    "    return coleman_egm(g, k_grid, β, u_prime, u_prime_inv, f, f_prime, shocks)"
   ]
  },
  {
   "cell_type": "markdown",
   "metadata": {},
   "source": [
    "Here’s the result"
   ]
  },
  {
   "cell_type": "code",
   "execution_count": null,
   "metadata": {},
   "outputs": [],
   "source": [
    "## Iterate, compare policies\n",
    "\n",
    "sim_length = 20\n",
    "\n",
    "print(\"Timing standard Coleman policy function iteration\")\n",
    "g_init = k_grid\n",
    "g = g_init\n",
    "qe.util.tic()\n",
    "for i in range(sim_length):\n",
    "    new_g = crra_coleman(g)\n",
    "    g = new_g\n",
    "qe.util.toc()\n",
    "\n",
    "\n",
    "print(\"Timing policy function iteration with endogenous grid\")\n",
    "g_init_egm = lambda x: x\n",
    "g = g_init_egm\n",
    "qe.util.tic()\n",
    "for i in range(sim_length):\n",
    "    new_g = crra_coleman_egm(g)\n",
    "    g = new_g\n",
    "qe.util.toc()"
   ]
  },
  {
   "cell_type": "markdown",
   "metadata": {},
   "source": [
    "We see that the EGM version is more than 6 times faster\n",
    "\n",
    "At the same time, the absence of numerical root finding means that it is\n",
    "typically more accurate at each step as well"
   ]
  }
 ],
 "metadata": {
  "kernelspec": {
   "display_name": "Python 3",
   "language": "python",
   "name": "python3"
  },
  "language_info": {
   "codemirror_mode": {
    "name": "ipython",
    "version": 3
   },
   "file_extension": ".py",
   "mimetype": "text/x-python",
   "name": "python",
   "nbconvert_exporter": "python",
   "pygments_lexer": "ipython3",
   "version": "3.6.5"
  }
 },
 "nbformat": 4,
 "nbformat_minor": 2
}
